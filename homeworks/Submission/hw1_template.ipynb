{
 "cells": [
  {
   "cell_type": "markdown",
   "metadata": {},
   "source": [
    "# Introduction to Deep Learning, HW 1 Template\n",
    "This document gives a suggested outline for the coding assignment.  Please see the assignment pdf for a more complete description of the assignment."
   ]
  },
  {
   "cell_type": "markdown",
   "metadata": {},
   "source": [
    "**[Duke Community Standard](http://integrity.duke.edu/standard.html): By typing your name below, you are certifying that you have adhered to the Duke Community Standard in completing this assignment.**\n",
    "\n",
    "Name: Yifan Li"
   ]
  },
  {
   "cell_type": "code",
   "execution_count": 1,
   "metadata": {},
   "outputs": [
    {
     "name": "stderr",
     "output_type": "stream",
     "text": [
      "C:\\Anaconda3\\lib\\site-packages\\h5py\\__init__.py:34: FutureWarning: Conversion of the second argument of issubdtype from `float` to `np.floating` is deprecated. In future, it will be treated as `np.float64 == np.dtype(float).type`.\n",
      "  from ._conv import register_converters as _register_converters\n"
     ]
    }
   ],
   "source": [
    "import numpy as np\n",
    "import tensorflow as tf\n",
    "import matplotlib.pyplot as plt\n",
    "% matplotlib inline"
   ]
  },
  {
   "cell_type": "markdown",
   "metadata": {},
   "source": [
    "## Problem 2: Algorithmic Implementation of a Multi-Class Logistic Regression without Tensorflow (30 Points)"
   ]
  },
  {
   "cell_type": "markdown",
   "metadata": {},
   "source": [
    "Succintly, for this problem we have an input image that we have vectorized to have $p=784$ features, and the output space is $C=10$ dimensional.  To get the full details on logistic regression, please visit the example codes and and the lectures.  Succinctly, the multiclass logistic regression model is as follows:\n",
    "\n",
    "$$\\mathbf{\\gamma}=\\mathbf{W}\\mathbf{x}+\\mathbf{b},\\quad \\mathbf{W}\\in\\mathbb{R}^{C\\times p},\\quad \\mathbf{b}\\in\\mathbb{R}^{C}$$\n",
    "$$ p(y=j)=\\text{softmax}(\\mathbf{\\gamma})_j$$\n",
    "$$\\ell(y,\\gamma)=\\sum_{j=1}^C1_{(y=j)}\\log(\\text{softmax}(\\mathbf{\\gamma})_j)$$\n",
    "or, if $\\mathbf{r}$ is a one-hot encoding of $y$, then\n",
    "$$\\ell(r,\\gamma)=\\mathbf{r}\\cdot \\log(\\text{softmax}(\\mathbf{\\gamma}))$$\n",
    "We want to implement this model in more basic codes and learn it to build a better understanding of what's going on before moving to using deep learning toolkits."
   ]
  },
  {
   "cell_type": "markdown",
   "metadata": {},
   "source": [
    "In is permissable in the context of this problem to use the MNIST dataset and minibatcher from Tensorflow, which should reduce the amount of bespoke coding that you have to do.\n",
    "\n",
    "Note that this function is depreciated, but it will work for now."
   ]
  },
  {
   "cell_type": "code",
   "execution_count": 2,
   "metadata": {},
   "outputs": [
    {
     "name": "stdout",
     "output_type": "stream",
     "text": [
      "WARNING:tensorflow:From <ipython-input-2-69c65344baec>:2: read_data_sets (from tensorflow.contrib.learn.python.learn.datasets.mnist) is deprecated and will be removed in a future version.\n",
      "Instructions for updating:\n",
      "Please use alternatives such as official/mnist/dataset.py from tensorflow/models.\n",
      "WARNING:tensorflow:From C:\\Anaconda3\\lib\\site-packages\\tensorflow\\contrib\\learn\\python\\learn\\datasets\\mnist.py:260: maybe_download (from tensorflow.contrib.learn.python.learn.datasets.base) is deprecated and will be removed in a future version.\n",
      "Instructions for updating:\n",
      "Please write your own downloading logic.\n",
      "WARNING:tensorflow:From C:\\Anaconda3\\lib\\site-packages\\tensorflow\\contrib\\learn\\python\\learn\\datasets\\mnist.py:262: extract_images (from tensorflow.contrib.learn.python.learn.datasets.mnist) is deprecated and will be removed in a future version.\n",
      "Instructions for updating:\n",
      "Please use tf.data to implement this functionality.\n",
      "Extracting MNIST_data/train-images-idx3-ubyte.gz\n",
      "WARNING:tensorflow:From C:\\Anaconda3\\lib\\site-packages\\tensorflow\\contrib\\learn\\python\\learn\\datasets\\mnist.py:267: extract_labels (from tensorflow.contrib.learn.python.learn.datasets.mnist) is deprecated and will be removed in a future version.\n",
      "Instructions for updating:\n",
      "Please use tf.data to implement this functionality.\n",
      "Extracting MNIST_data/train-labels-idx1-ubyte.gz\n",
      "WARNING:tensorflow:From C:\\Anaconda3\\lib\\site-packages\\tensorflow\\contrib\\learn\\python\\learn\\datasets\\mnist.py:110: dense_to_one_hot (from tensorflow.contrib.learn.python.learn.datasets.mnist) is deprecated and will be removed in a future version.\n",
      "Instructions for updating:\n",
      "Please use tf.one_hot on tensors.\n",
      "Extracting MNIST_data/t10k-images-idx3-ubyte.gz\n",
      "Extracting MNIST_data/t10k-labels-idx1-ubyte.gz\n",
      "WARNING:tensorflow:From C:\\Anaconda3\\lib\\site-packages\\tensorflow\\contrib\\learn\\python\\learn\\datasets\\mnist.py:290: DataSet.__init__ (from tensorflow.contrib.learn.python.learn.datasets.mnist) is deprecated and will be removed in a future version.\n",
      "Instructions for updating:\n",
      "Please use alternatives such as official/mnist/dataset.py from tensorflow/models.\n"
     ]
    }
   ],
   "source": [
    "from tensorflow.examples.tutorials.mnist import input_data\n",
    "mnist = input_data.read_data_sets(\"MNIST_data/\", one_hot=True)"
   ]
  },
  {
   "cell_type": "markdown",
   "metadata": {},
   "source": [
    "Visualizing the data to make sure that its understood:"
   ]
  },
  {
   "cell_type": "code",
   "execution_count": 3,
   "metadata": {},
   "outputs": [
    {
     "name": "stdout",
     "output_type": "stream",
     "text": [
      "Training image data:  (55000, 784)\n",
      "Testing image data:  (10000, 784)\n",
      "28 x 28 =  784\n",
      "\n",
      "Train image 1 is labelled one-hot as [0. 0. 0. 1. 0. 0. 0. 0. 0. 0.]\n"
     ]
    },
    {
     "data": {
      "text/plain": [
       "<matplotlib.image.AxesImage at 0x22d048664a8>"
      ]
     },
     "execution_count": 3,
     "metadata": {},
     "output_type": "execute_result"
    },
    {
     "data": {
      "image/png": "[encoded data removed]",
      "text/plain": [
       "<Figure size 432x288 with 1 Axes>"
      ]
     },
     "metadata": {},
     "output_type": "display_data"
    }
   ],
   "source": [
    "# Dataset statistics# Datas \n",
    "print('Training image data: ', mnist.train.images.shape)\n",
    "print('Testing image data: ', mnist.test.images.shape)\n",
    "print('28 x 28 = ', 28*28)\n",
    "\n",
    "# Example image\n",
    "print('\\nTrain image 1 is labelled one-hot as {0}'.format(mnist.train.labels[1,:]))\n",
    "image = np.reshape(mnist.train.images[1,:],[28,28])\n",
    "plt.imshow(image, cmap='gray')"
   ]
  },
  {
   "cell_type": "markdown",
   "metadata": {},
   "source": [
    "You can pull a new data example from MNIST by the following:\n",
    "\n",
    "Note that the digit will change each time you run this because it is randomly sampling."
   ]
  },
  {
   "cell_type": "code",
   "execution_count": 4,
   "metadata": {},
   "outputs": [
    {
     "name": "stdout",
     "output_type": "stream",
     "text": [
      "\n",
      "Train image 1 is labelled one-hot as [[0. 0. 0. 0. 0. 0. 0. 1. 0. 0.]]\n"
     ]
    },
    {
     "data": {
      "text/plain": [
       "<matplotlib.image.AxesImage at 0x22d048f20b8>"
      ]
     },
     "execution_count": 4,
     "metadata": {},
     "output_type": "execute_result"
    },
    {
     "data": {
      "image/png": "[encoded data removed]",
      "text/plain": [
       "<Figure size 432x288 with 1 Axes>"
      ]
     },
     "metadata": {},
     "output_type": "display_data"
    }
   ],
   "source": [
    "current_data=mnist.train.next_batch(1)\n",
    "# Example image\n",
    "print('\\nTrain image 1 is labelled one-hot as {0}'.format(current_data[1]))\n",
    "image = np.reshape(current_data[0],[28,28])\n",
    "plt.imshow(image, cmap='gray')"
   ]
  },
  {
   "cell_type": "markdown",
   "metadata": {},
   "source": [
    "Below are the functions that you need to define to make this work."
   ]
  },
  {
   "cell_type": "code",
   "execution_count": 5,
   "metadata": {
    "collapsed": true
   },
   "outputs": [],
   "source": [
    "def lr_gradient(current_parameters, batch_xs, batch_ys):\n",
    "    # calculate the gradient on the data\n",
    "    \n",
    "    # Forward propagation\n",
    "    z = batch_xs.dot(current_parameters[0]) + current_parameters[1] # z = Wx+b\n",
    "    probs = softmax(z)\n",
    "    # Backpropagation\n",
    "    delta = probs - batch_ys\n",
    "    W_grad = (batch_xs.T).dot(delta)\n",
    "    b_grad = np.sum(delta, axis=0, keepdims=True)\n",
    "    \n",
    "    return W_grad, b_grad\n",
    "\n",
    "\n",
    "def softmax(z):\n",
    "    exp = np.exp(z-np.max(z, axis=1).reshape((-1,1)))\n",
    "    norms = np.sum(exp, axis=1).reshape((-1,1))\n",
    "    return exp / norms"
   ]
  },
  {
   "cell_type": "code",
   "execution_count": 6,
   "metadata": {
    "collapsed": true
   },
   "outputs": [],
   "source": [
    "def lr_loss(current_parameters,batch_xs, batch_ys):\n",
    "    # calculate the loss\n",
    "    \n",
    "    z = batch_xs.dot(current_parameters[0]) + current_parameters[1] # z = Wx+b\n",
    "    probs = softmax(z)\n",
    "    avg_loss = - np.sum(batch_ys * np.log(probs))/100\n",
    "    \n",
    "    return avg_loss"
   ]
  },
  {
   "cell_type": "markdown",
   "metadata": {},
   "source": [
    "Run the stochastic gradient descent optimization loop.  Note that you need to fill in the values to make this work well."
   ]
  },
  {
   "cell_type": "code",
   "execution_count": 28,
   "metadata": {
    "collapsed": true
   },
   "outputs": [],
   "source": [
    "max_iterations = 10000 # choose the max number of iterations\n",
    "step_size = 0.05 # choose your step size\n",
    "W = np.zeros((784, 10)) # choose your starting parameters (connection weights)\n",
    "b = np.zeros(10) # choose your starting parameters (biases)\n",
    "training_loss_history=[]\n",
    "for iter in range(max_iterations):  \n",
    "    batch_xs, batch_ys = mnist.train.next_batch(100)\n",
    "    current_parameters = [W, b]\n",
    "    # note you need to change this to your preferred data format.\n",
    "    W_grad,b_grad=lr_gradient(current_parameters,batch_xs, batch_ys)\n",
    "    training_loss_history.append(lr_loss(current_parameters,batch_xs, batch_ys))\n",
    "    W=W-step_size*W_grad\n",
    "    b=b-step_size*b_grad"
   ]
  },
  {
   "cell_type": "markdown",
   "metadata": {},
   "source": [
    "It can be a helpful diagnostic tool to visualize the learning curve:"
   ]
  },
  {
   "cell_type": "code",
   "execution_count": 29,
   "metadata": {},
   "outputs": [
    {
     "data": {
      "text/plain": [
       "Text(0.5,1,'Average loss vs. iterations')"
      ]
     },
     "execution_count": 29,
     "metadata": {},
     "output_type": "execute_result"
    },
    {
     "data": {
      "image/png": "[encoded data removed]",
      "text/plain": [
       "<Figure size 432x288 with 1 Axes>"
      ]
     },
     "metadata": {},
     "output_type": "display_data"
    }
   ],
   "source": [
    "plt.plot(training_loss_history)\n",
    "plt.xlabel('iteration')\n",
    "plt.ylabel('Loss')\n",
    "plt.title('Average loss vs. iterations')"
   ]
  },
  {
   "cell_type": "markdown",
   "metadata": {},
   "source": [
    "Calculate both your training loss and accuracy and your validation loss and accuracy"
   ]
  },
  {
   "cell_type": "code",
   "execution_count": 30,
   "metadata": {},
   "outputs": [
    {
     "name": "stdout",
     "output_type": "stream",
     "text": [
      "Avg training loss: 0.702376, training accuracy: 0.900182\n",
      "Avg validation loss: 0.811975, validation accuracy: 0.894600\n",
      "Avg test loss: 0.844784, test accuracy: 0.889500\n"
     ]
    }
   ],
   "source": [
    "# Training set\n",
    "z_train = mnist.train.images.dot(W) + b # z = Wx+b\n",
    "probs_train = softmax(z_train) # y^ = softmax(z)\n",
    "num_train = mnist.train.images.shape[0] # number of training set data points\n",
    "correct = 0\n",
    "for i in range(0, num_train-1):\n",
    "    if np.argmax(probs_train[i]) == np.argmax(mnist.train.labels[i]):\n",
    "        correct += 1\n",
    "        \n",
    "train_accuracy = correct / num_train\n",
    "avg_loss_train = - np.sum(mnist.train.labels * np.log(probs_train))/num_train\n",
    "print('Avg training loss: %f, training accuracy: %f' %(avg_loss_train, train_accuracy))\n",
    "\n",
    "# Validation set\n",
    "z_validation = mnist.validation.images.dot(W) + b # z = Wx+b\n",
    "probs_validation = softmax(z_validation)\n",
    "num_validation = mnist.validation.images.shape[0]\n",
    "correct = 0\n",
    "for i in range(0, num_validation-1):\n",
    "    if np.argmax(probs_validation[i]) == np.argmax(mnist.validation.labels[i]):\n",
    "        correct += 1\n",
    "        \n",
    "validation_accuracy = correct / num_validation\n",
    "avg_loss_validation = - np.sum(mnist.validation.labels * np.log(probs_validation))/num_validation\n",
    "print('Avg validation loss: %f, validation accuracy: %f' %(avg_loss_validation, validation_accuracy))\n",
    "\n",
    "\n",
    "# Test set\n",
    "z_test = mnist.test.images.dot(W) + b\n",
    "probs_test = softmax(z_test)\n",
    "num_test = mnist.test.images.shape[0]\n",
    "correct = 0\n",
    "for i in range(0, num_test-1):\n",
    "    if np.argmax(probs_test[i]) == np.argmax(mnist.test.labels[i]):\n",
    "        correct += 1\n",
    "        \n",
    "test_accuracy = correct / num_test\n",
    "avg_loss_test = - np.sum(mnist.test.labels * np.log(probs_test))/num_test\n",
    "print('Avg test loss: %f, test accuracy: %f' %(avg_loss_test, test_accuracy))"
   ]
  },
  {
   "cell_type": "markdown",
   "metadata": {},
   "source": [
    "## Problem 3: Algorithmic Implementation of a Multi-Class Logistic Regression with Tensorflow (30 Points)\n",
    "As above, but now you are allowed to use tensorflow to perform model learning."
   ]
  },
  {
   "cell_type": "markdown",
   "metadata": {},
   "source": [
    "### (a)\tSet up a logistic regression network, and learn it on MNIST using stochastic gradient descent."
   ]
  },
  {
   "cell_type": "code",
   "execution_count": 31,
   "metadata": {},
   "outputs": [
    {
     "name": "stdout",
     "output_type": "stream",
     "text": [
      "Extracting MNIST_data/train-images-idx3-ubyte.gz\n",
      "Extracting MNIST_data/train-labels-idx1-ubyte.gz\n",
      "Extracting MNIST_data/t10k-images-idx3-ubyte.gz\n",
      "Extracting MNIST_data/t10k-labels-idx1-ubyte.gz\n"
     ]
    }
   ],
   "source": [
    "# Modeling Definition\n",
    "import tensorflow as tf\n",
    "from tensorflow.examples.tutorials.mnist import input_data\n",
    "\n",
    "# Import data\n",
    "mnist = input_data.read_data_sets(\"MNIST_data/\", one_hot=True)\n",
    "# Create the model\n",
    "W = tf.Variable(tf.zeros([784,10]))\n",
    "b = tf.Variable(tf.zeros([10]))\n",
    "x = tf.placeholder(tf.float32, [None, 784])\n",
    "y_ = tf.placeholder(tf.float32, [None, 10]) #true labels\n",
    "y = tf.matmul(x, W) + b\n",
    "# Define loss and optimizer\n",
    "cross_entropy = tf.reduce_mean(tf.nn.softmax_cross_entropy_with_logits_v2(labels=y_, logits=y))\n",
    "train_step = tf.train.GradientDescentOptimizer(0.05).minimize(cross_entropy)"
   ]
  },
  {
   "cell_type": "code",
   "execution_count": 32,
   "metadata": {},
   "outputs": [
    {
     "name": "stdout",
     "output_type": "stream",
     "text": [
      "Iter: 0: validation accuracy: 0.2937999963760376\n",
      "Iter: 1000: validation accuracy: 0.8984000086784363\n",
      "Iter: 2000: validation accuracy: 0.9085999727249146\n",
      "Iter: 3000: validation accuracy: 0.9139999747276306\n",
      "Iter: 4000: validation accuracy: 0.9178000092506409\n",
      "Iter: 5000: validation accuracy: 0.9210000038146973\n",
      "Iter: 6000: validation accuracy: 0.9232000112533569\n",
      "Iter: 7000: validation accuracy: 0.9225999712944031\n",
      "Iter: 8000: validation accuracy: 0.9229999780654907\n",
      "Iter: 9000: validation accuracy: 0.925000011920929\n",
      "Iter: 9999: validation accuracy: 0.9228000044822693\n"
     ]
    }
   ],
   "source": [
    "# Learning\n",
    "sess = tf.Session()\n",
    "sess.run(tf.global_variables_initializer())\n",
    "\n",
    "for i in range(10000):\n",
    "    batch_xs, batch_ys = mnist.train.next_batch(100)\n",
    "    sess.run(train_step, feed_dict={x: batch_xs, y_: batch_ys}) # fill in the placeholders\n",
    "    if i % 1000 == 0 or i == 9999: # Evaluation\n",
    "        correct_prediction = tf.equal(tf.argmax(y, 1), tf.argmax(y_, 1))\n",
    "        accuracy = tf.reduce_mean(tf.cast(correct_prediction, tf.float32))\n",
    "        print('Iter: {}: validation accuracy: {}'.format(i, sess.run(accuracy, feed_dict={x: mnist.validation.images, y_: mnist.validation.labels})))"
   ]
  },
  {
   "cell_type": "code",
   "execution_count": 33,
   "metadata": {},
   "outputs": [
    {
     "name": "stdout",
     "output_type": "stream",
     "text": [
      "Test accuracy: 0.9211000204086304\n"
     ]
    }
   ],
   "source": [
    "# Evaluation\n",
    "print('Test accuracy: {0}'.format(sess.run(accuracy, feed_dict={x: mnist.test.images, y_: mnist.test.labels})))\n",
    "sess.close()"
   ]
  },
  {
   "cell_type": "markdown",
   "metadata": {},
   "source": [
    "### (b)\tSet up an MLP with a single hidden layer (you can choose the number of hidden nodes) and learn it on MNIST using stochastic gradient descent."
   ]
  },
  {
   "cell_type": "code",
   "execution_count": 34,
   "metadata": {},
   "outputs": [
    {
     "name": "stdout",
     "output_type": "stream",
     "text": [
      "Extracting MNIST_data/train-images-idx3-ubyte.gz\n",
      "Extracting MNIST_data/train-labels-idx1-ubyte.gz\n",
      "Extracting MNIST_data/t10k-images-idx3-ubyte.gz\n",
      "Extracting MNIST_data/t10k-labels-idx1-ubyte.gz\n"
     ]
    }
   ],
   "source": [
    "# Modeling Definition\n",
    "import tensorflow as tf\n",
    "from tensorflow.examples.tutorials.mnist import input_data\n",
    "\n",
    "# Import data\n",
    "mnist = input_data.read_data_sets(\"MNIST_data/\", one_hot=True)\n",
    "# Create the model\n",
    "n_hidden = 256 # number of hidden nodes\n",
    "W1 = tf.Variable(initial_value=tf.truncated_normal([784,n_hidden], stddev=0.1)) #layer 1\n",
    "b1 = tf.Variable(tf.zeros([n_hidden]))\n",
    "W2 = tf.Variable(initial_value=tf.truncated_normal([n_hidden, 10], stddev=0.1)) #layer 2\n",
    "b2 = tf.Variable(tf.zeros([10]))\n",
    "x = tf.placeholder(tf.float32, [None, 784])\n",
    "y_ = tf.placeholder(tf.float32, [None, 10]) #true labels\n",
    "\n",
    "z = tf.nn.relu(tf.matmul(x, W1) + b1)\n",
    "y = tf.matmul(z, W2) + b2\n",
    "\n",
    "# Define loss and optimizer\n",
    "cross_entropy = tf.reduce_mean(tf.nn.softmax_cross_entropy_with_logits_v2(labels=y_, logits=y))\n",
    "train_step = tf.train.GradientDescentOptimizer(0.05).minimize(cross_entropy)"
   ]
  },
  {
   "cell_type": "code",
   "execution_count": 35,
   "metadata": {},
   "outputs": [
    {
     "name": "stdout",
     "output_type": "stream",
     "text": [
      "Iter: 0: validation accuracy: 0.08579999953508377\n",
      "Iter: 1000: validation accuracy: 0.928600013256073\n",
      "Iter: 2000: validation accuracy: 0.9437999725341797\n",
      "Iter: 3000: validation accuracy: 0.954200029373169\n",
      "Iter: 4000: validation accuracy: 0.9606000185012817\n",
      "Iter: 5000: validation accuracy: 0.9628000259399414\n",
      "Iter: 6000: validation accuracy: 0.9639999866485596\n",
      "Iter: 7000: validation accuracy: 0.967199981212616\n",
      "Iter: 8000: validation accuracy: 0.9700000286102295\n",
      "Iter: 9000: validation accuracy: 0.9706000089645386\n",
      "Iter: 9999: validation accuracy: 0.972599983215332\n"
     ]
    }
   ],
   "source": [
    "# Learning\n",
    "sess = tf.Session()\n",
    "sess.run(tf.global_variables_initializer())\n",
    "\n",
    "for i in range(10000):\n",
    "    batch_xs, batch_ys = mnist.train.next_batch(100)\n",
    "    sess.run(train_step, feed_dict={x: batch_xs, y_: batch_ys}) # fill in the placeholders\n",
    "    if i % 1000 == 0 or i == 9999: # Evaluation\n",
    "        correct_prediction = tf.equal(tf.argmax(y, 1), tf.argmax(y_, 1))\n",
    "        accuracy = tf.reduce_mean(tf.cast(correct_prediction, tf.float32))\n",
    "        print('Iter: {}: validation accuracy: {}'.format(i, sess.run(accuracy, feed_dict={x: mnist.validation.images, y_: mnist.validation.labels})))"
   ]
  },
  {
   "cell_type": "code",
   "execution_count": 36,
   "metadata": {},
   "outputs": [
    {
     "name": "stdout",
     "output_type": "stream",
     "text": [
      "Test accuracy: 0.972000002861023\n"
     ]
    }
   ],
   "source": [
    "# Evaluation\n",
    "print('Test accuracy: {0}'.format(sess.run(accuracy, feed_dict={x: mnist.test.images, y_: mnist.test.labels})))\n",
    "sess.close()"
   ]
  },
  {
   "cell_type": "markdown",
   "metadata": {},
   "source": [
    "### (c)\tSet up an MLP with two hidden layers (i.e. lecture 2, slide 55)"
   ]
  },
  {
   "cell_type": "code",
   "execution_count": 37,
   "metadata": {},
   "outputs": [
    {
     "name": "stdout",
     "output_type": "stream",
     "text": [
      "Extracting MNIST_data/train-images-idx3-ubyte.gz\n",
      "Extracting MNIST_data/train-labels-idx1-ubyte.gz\n",
      "Extracting MNIST_data/t10k-images-idx3-ubyte.gz\n",
      "Extracting MNIST_data/t10k-labels-idx1-ubyte.gz\n"
     ]
    }
   ],
   "source": [
    "# Modeling Definition\n",
    "import tensorflow as tf\n",
    "from tensorflow.examples.tutorials.mnist import input_data\n",
    "\n",
    "# Import data\n",
    "mnist = input_data.read_data_sets(\"MNIST_data/\", one_hot=True)\n",
    "# Create the model\n",
    "x = tf.placeholder(tf.float32, [None, 784])\n",
    "y_ = tf.placeholder(tf.float32, [None, 10]) #true labels\n",
    "\n",
    "n_hidden_1 = 256 # number of hidden nodes in hidden layer 1\n",
    "n_hidden_2 = 64 # number of hidden nodes in hidden layer 2\n",
    "W1 = tf.Variable(initial_value=tf.truncated_normal([784, n_hidden_1], stddev=0.1)) #layer 1\n",
    "b1 = tf.Variable(tf.zeros([n_hidden_1]))\n",
    "z1 = tf.nn.relu(tf.matmul(x, W1) + b1)\n",
    "W2 = tf.Variable(initial_value=tf.truncated_normal([n_hidden_1, n_hidden_2], stddev=0.1)) #layer 2\n",
    "b2 = tf.Variable(tf.zeros([n_hidden_2]))\n",
    "z2 = tf.nn.relu(tf.matmul(z1, W2) + b2)\n",
    "W3 = tf.Variable(initial_value=tf.truncated_normal([n_hidden_2, 10], stddev=0.1)) #layer 3\n",
    "b3 = tf.Variable(tf.zeros([10]))\n",
    "y = tf.matmul(z2, W3) + b3\n",
    "\n",
    "# Define loss and optimizer\n",
    "cross_entropy = tf.reduce_mean(tf.nn.softmax_cross_entropy_with_logits_v2(labels=y_, logits=y))\n",
    "train_step = tf.train.GradientDescentOptimizer(0.05).minimize(cross_entropy)"
   ]
  },
  {
   "cell_type": "code",
   "execution_count": 38,
   "metadata": {},
   "outputs": [
    {
     "name": "stdout",
     "output_type": "stream",
     "text": [
      "Iter: 0: validation accuracy: 0.12280000001192093\n",
      "Iter: 1000: validation accuracy: 0.9355999827384949\n",
      "Iter: 2000: validation accuracy: 0.9539999961853027\n",
      "Iter: 3000: validation accuracy: 0.9643999934196472\n",
      "Iter: 4000: validation accuracy: 0.9670000076293945\n",
      "Iter: 5000: validation accuracy: 0.9710000157356262\n",
      "Iter: 6000: validation accuracy: 0.974399983882904\n",
      "Iter: 7000: validation accuracy: 0.9733999967575073\n",
      "Iter: 8000: validation accuracy: 0.9735999703407288\n",
      "Iter: 9000: validation accuracy: 0.975600004196167\n",
      "Iter: 9999: validation accuracy: 0.9757999777793884\n"
     ]
    }
   ],
   "source": [
    "# Learning\n",
    "sess = tf.Session()\n",
    "sess.run(tf.global_variables_initializer())\n",
    "\n",
    "for i in range(10000):\n",
    "    batch_xs, batch_ys = mnist.train.next_batch(100)\n",
    "    sess.run(train_step, feed_dict={x: batch_xs, y_: batch_ys}) # fill in the placeholders\n",
    "    if i % 1000 == 0 or i == 9999: # Evaluation\n",
    "        correct_prediction = tf.equal(tf.argmax(y, 1), tf.argmax(y_, 1))\n",
    "        accuracy = tf.reduce_mean(tf.cast(correct_prediction, tf.float32))\n",
    "        print('Iter: {}: validation accuracy: {}'.format(i, sess.run(accuracy, feed_dict={x: mnist.validation.images, y_: mnist.validation.labels})))"
   ]
  },
  {
   "cell_type": "code",
   "execution_count": 39,
   "metadata": {},
   "outputs": [
    {
     "name": "stdout",
     "output_type": "stream",
     "text": [
      "Test accuracy: 0.9753000140190125\n"
     ]
    }
   ],
   "source": [
    "# Evaluation\n",
    "print('Test accuracy: {0}'.format(sess.run(accuracy, feed_dict={x: mnist.test.images, y_: mnist.test.labels})))\n",
    "sess.close()"
   ]
  },
  {
   "cell_type": "markdown",
   "metadata": {},
   "source": [
    "## Problem 4: Performance Comparison (20 points)"
   ]
  },
  {
   "cell_type": "markdown",
   "metadata": {},
   "source": [
    "### (a)\tDid your implementations and Tensorflow’s implementations from problems 2 and 3 perform the same?"
   ]
  },
  {
   "cell_type": "markdown",
   "metadata": {
    "collapsed": true
   },
   "source": [
    "Both implementations work, but Tensorflow's implementation gives better accuracy when keeping learning rate and number of iterations the same. My implementation has an test accuracy of about 89%, while Tensorflow's version is about 3 percent higher. Results were shown in previous problems."
   ]
  },
  {
   "cell_type": "markdown",
   "metadata": {},
   "source": [
    "### (b)\tWhat is the validation accuracy from the multi-class logistic regression?"
   ]
  },
  {
   "cell_type": "markdown",
   "metadata": {},
   "source": [
    "The validation accuracy from the multi-class logistic regression is about 92%, as shown in problem 3(a). The accuracy is pretty decent, possibly due to the large number of iterations chosen (10000). The machine is able to learn all parameters quickly, given the simple network."
   ]
  },
  {
   "cell_type": "markdown",
   "metadata": {},
   "source": [
    "### (c)\tWhat is the validation accuracy from the multi-class MLP with a single hidden layer?  If you change the number of nodes in the hidden layer, how susceptible is the hold out performance?"
   ]
  },
  {
   "cell_type": "markdown",
   "metadata": {},
   "source": [
    "When the number of hidden nodes is set to 256, the validation accuracy from the multi-class MLP with a single hidden layer is about 97.2%, as we can see from the test results shown in problem 3(b). We can see an obvious accuracy improvement, but the machine learns and updates all parameters much slower due to the increased complexity of the network. In general, a larger number of hidden nodes yields higher accuracy, but will eventually converge. Larger number of nodes will also increase the complexity of the model and thus increase the computational cost."
   ]
  },
  {
   "cell_type": "markdown",
   "metadata": {},
   "source": [
    "### (d)\tWhat is the validation accuracy from the multi-class MLP with two hidden layer?  If you change the number of nodes in the hidden layers, how susceptible is the hold out performance?"
   ]
  },
  {
   "cell_type": "markdown",
   "metadata": {},
   "source": [
    "When the number of hidden nodes is set to 256 and 64 respectively, the validation accuracy from the multi-class MLP with 2 hidden layers is about 97.5%, as we can see from the test results shown in problem 3(c). We can see a further accuracy improvement, but at a cost of even slower learning speed/higher computational cost. This MLP with 2 hidden layers is quite complex, and the accuracy only varies a little bit when changing the number of hidden nodes."
   ]
  },
  {
   "cell_type": "markdown",
   "metadata": {},
   "source": [
    "### (e)\tDo you match my reported accuracies (lecture 2, slide 58)?"
   ]
  },
  {
   "cell_type": "markdown",
   "metadata": {},
   "source": [
    "The results match, and the results that I got were even higher, possibly due to the large number of iterations used. The MLP with 1 hidden layer produces the accuracy of ~96% (I got 97%), and the simple MLP without hidden layers has an accuracy of ~91% (I got 92%)."
   ]
  }
 ],
 "metadata": {
  "kernelspec": {
   "display_name": "Python 3",
   "language": "python",
   "name": "python3"
  },
  "language_info": {
   "codemirror_mode": {
    "name": "ipython",
    "version": 3
   },
   "file_extension": ".py",
   "mimetype": "text/x-python",
   "name": "python",
   "nbconvert_exporter": "python",
   "pygments_lexer": "ipython3",
   "version": "3.6.3"
  }
 },
 "nbformat": 4,
 "nbformat_minor": 2
}
