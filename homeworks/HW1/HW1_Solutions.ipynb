{
 "cells": [
  {
   "cell_type": "markdown",
   "metadata": {},
   "source": [
    "# Introduction to Deep Learning, HW 1"
   ]
  },
  {
   "cell_type": "code",
   "execution_count": 2,
   "metadata": {
    "collapsed": true
   },
   "outputs": [],
   "source": [
    "import numpy as np\n",
    "import tensorflow as tf\n",
    "import matplotlib.pyplot as plt\n",
    "% matplotlib inline"
   ]
  },
  {
   "cell_type": "markdown",
   "metadata": {},
   "source": [
    "## Problem 2: Algorithmic Implementation of a Multi-Class Logistic Regression without TensorFlow (30 Points)"
   ]
  },
  {
   "cell_type": "code",
   "execution_count": 4,
   "metadata": {},
   "outputs": [
    {
     "name": "stdout",
     "output_type": "stream",
     "text": [
      "Extracting MNIST_data/train-images-idx3-ubyte.gz\n",
      "Extracting MNIST_data/train-labels-idx1-ubyte.gz\n",
      "Extracting MNIST_data/t10k-images-idx3-ubyte.gz\n",
      "Extracting MNIST_data/t10k-labels-idx1-ubyte.gz\n"
     ]
    }
   ],
   "source": [
    "# Import the MNIST dataset from TensorFlow\n",
    "from tensorflow.examples.tutorials.mnist import input_data\n",
    "mnist = input_data.read_data_sets(\"MNIST_data/\", one_hot=True)"
   ]
  },
  {
   "cell_type": "markdown",
   "metadata": {},
   "source": [
    "Defining the gradient and loss functions for logistic regression:"
   ]
  },
  {
   "cell_type": "code",
   "execution_count": 5,
   "metadata": {
    "collapsed": true
   },
   "outputs": [],
   "source": [
    "def lr_gradient(current_W,current_b,data_minibatch):\n",
    "    minibatch_size = data_minibatch[0].shape[0]\n",
    "    \n",
    "    # calculate the gradient on the data\n",
    "    z = np.matmul(data_minibatch[0], current_W) + current_b\n",
    "    a = np.exp(z) / np.sum(np.exp(z),axis=1).reshape((minibatch_size,1))\n",
    "\n",
    "    dLdz = a - data_minibatch[1]\n",
    "    dzdW = data_minibatch[0]\n",
    "    \n",
    "    W_grad = np.matmul(dzdW.T, dLdz) / minibatch_size\n",
    "    b_grad = np.mean(dLdz, axis=0)\n",
    "    return W_grad, b_grad"
   ]
  },
  {
   "cell_type": "code",
   "execution_count": 6,
   "metadata": {
    "collapsed": true
   },
   "outputs": [],
   "source": [
    "def lr_loss(current_W,current_b,minibatch_images, minibatch_labels):\n",
    "    minibatch_size = minibatch_images.shape[0]\n",
    "    # calculate the loss\n",
    "    z = np.matmul(minibatch_images, current_W) + current_b\n",
    "    a = np.exp(z) / np.sum(np.exp(z),axis=1).reshape((minibatch_size,1))\n",
    "    avg_loss = np.mean(-np.sum(np.multiply(minibatch_labels, np.log(a)),axis=1))\n",
    "    return avg_loss"
   ]
  },
  {
   "cell_type": "markdown",
   "metadata": {},
   "source": [
    "Running the stochastic gradient descent optimization loop:"
   ]
  },
  {
   "cell_type": "code",
   "execution_count": 7,
   "metadata": {
    "collapsed": true,
    "scrolled": true
   },
   "outputs": [],
   "source": [
    "max_iterations = 5000 # choose the max number of iterations\n",
    "step_size = 0.1 # step size\n",
    "W = np.random.normal(scale=0.1, size=(784,10)) # starting parameters (connection weights)\n",
    "b = np.zeros(10) # starting parameters (biases)\n",
    "training_loss_history = []\n",
    "for iter in range(0, max_iterations):\n",
    "    data_minibatch = mnist.train.next_batch(100)\n",
    "    W_grad, b_grad = lr_gradient(W, b, data_minibatch)\n",
    "    training_loss_history.append(lr_loss(W,b,data_minibatch[0], data_minibatch[1]))\n",
    "    W = W - step_size * W_grad\n",
    "    b = b - step_size * b_grad"
   ]
  },
  {
   "cell_type": "markdown",
   "metadata": {},
   "source": [
    "Visualizing the learning curve:"
   ]
  },
  {
   "cell_type": "code",
   "execution_count": 8,
   "metadata": {},
   "outputs": [
    {
     "data": {
      "text/plain": [
       "[<matplotlib.lines.Line2D at 0x10385a550>]"
      ]
     },
     "execution_count": 8,
     "metadata": {},
     "output_type": "execute_result"
    },
    {
     "data": {
      "image/png": "[encoded data removed]",
      "text/plain": [
       "<Figure size 432x288 with 1 Axes>"
      ]
     },
     "metadata": {},
     "output_type": "display_data"
    }
   ],
   "source": [
    "plt.plot(training_loss_history)"
   ]
  },
  {
   "cell_type": "markdown",
   "metadata": {},
   "source": [
    "Calculating training loss and accuracy and validation loss and accuracy:"
   ]
  },
  {
   "cell_type": "code",
   "execution_count": 9,
   "metadata": {},
   "outputs": [
    {
     "name": "stdout",
     "output_type": "stream",
     "text": [
      "Training loss: 0.28995070285598074\n",
      "Training accuracy: 0.9182727272727272\n",
      "\n",
      "Test loss: 0.28291572542156607\n",
      "Test accuracy: 0.9211\n"
     ]
    }
   ],
   "source": [
    "train_loss = lr_loss(W, b, mnist.train.images, mnist.train.labels)\n",
    "z_train = np.matmul(mnist.train.images, W) + b\n",
    "a_train = np.exp(z_train) / np.sum(np.exp(z_train))\n",
    "train_accuracy = np.mean(np.equal(np.argmax(a_train, 1), np.argmax(mnist.train.labels, 1)))\n",
    "\n",
    "test_loss = lr_loss(W, b, mnist.test.images, mnist.test.labels)\n",
    "z_test = np.matmul(mnist.test.images, W) + b\n",
    "a_test = np.exp(z_test) / np.sum(np.exp(z_test))\n",
    "test_accuracy = np.mean(np.equal(np.argmax(a_test, 1), np.argmax(mnist.test.labels, 1)))\n",
    "\n",
    "print('Training loss: {0}'.format(train_loss))\n",
    "print('Training accuracy: {0}\\n'.format(train_accuracy))\n",
    "\n",
    "print('Test loss: {0}'.format(test_loss))\n",
    "print('Test accuracy: {0}'.format(test_accuracy))"
   ]
  },
  {
   "cell_type": "markdown",
   "metadata": {},
   "source": [
    "## Problem 3: Algorithmic Implementation of a Multi-Class Logistic Regression with TensorFlow (30 Points)"
   ]
  },
  {
   "cell_type": "markdown",
   "metadata": {},
   "source": [
    "### (a)\tSet up a logistic regression network, and learn it on MNIST using stochastic gradient descent."
   ]
  },
  {
   "cell_type": "code",
   "execution_count": 11,
   "metadata": {},
   "outputs": [
    {
     "name": "stdout",
     "output_type": "stream",
     "text": [
      "Training loss: 0.2894737422466278\n",
      "Training accuracy: 0.9205999970436096\n",
      "\n",
      "Test loss: 0.2852165400981903\n",
      "Test accuracy: 0.9222000241279602\n"
     ]
    }
   ],
   "source": [
    "# Modeling Definition\n",
    "# Create the model\n",
    "x = tf.placeholder(tf.float32, [None, 784])\n",
    "W = tf.Variable(tf.truncated_normal([784, 10], stddev=0.1))\n",
    "b = tf.Variable(tf.zeros([10]))\n",
    "y = tf.matmul(x, W) + b\n",
    "\n",
    "# Define loss and optimizer\n",
    "y_ = tf.placeholder(tf.float32, [None, 10])\n",
    "cross_entropy = tf.reduce_mean(tf.nn.softmax_cross_entropy_with_logits(labels=y_, logits=y))\n",
    "train_step = tf.train.GradientDescentOptimizer(0.1).minimize(cross_entropy)\n",
    "\n",
    "# Learning\n",
    "# Create a Session object, initialize all variables\n",
    "sess = tf.Session()\n",
    "sess.run(tf.global_variables_initializer())\n",
    "\n",
    "# Train\n",
    "for iter in range(5000):\n",
    "    batch_xs, batch_ys = mnist.train.next_batch(100)\n",
    "    sess.run(train_step, feed_dict={x: batch_xs, y_: batch_ys})\n",
    "\n",
    "# Evaluation\n",
    "# Test trained model\n",
    "correct_prediction = tf.equal(tf.argmax(y, 1), tf.argmax(y_, 1))\n",
    "accuracy = tf.reduce_mean(tf.cast(correct_prediction, tf.float32))\n",
    "\n",
    "print('Training loss: {0}'.format(sess.run(cross_entropy, feed_dict={x: mnist.train.images, y_:mnist.train.labels})))\n",
    "print('Training accuracy: {0}\\n'.format(sess.run(accuracy, feed_dict={x: mnist.train.images, y_: mnist.train.labels})))\n",
    "print('Test loss: {0}'.format(sess.run(cross_entropy, feed_dict={x: mnist.test.images, y_:mnist.test.labels})))\n",
    "print('Test accuracy: {0}'.format(sess.run(accuracy, feed_dict={x: mnist.test.images, y_: mnist.test.labels})))\n",
    "\n",
    "sess.close()"
   ]
  },
  {
   "cell_type": "markdown",
   "metadata": {},
   "source": [
    "### (b)\tSet up an MLP with a single hidden layer (you can choose the number of hidden nodes) and learn it on MNIST using stochastic gradient descent."
   ]
  },
  {
   "cell_type": "code",
   "execution_count": 12,
   "metadata": {},
   "outputs": [
    {
     "name": "stdout",
     "output_type": "stream",
     "text": [
      "100 hidden nodes accuracy: 0.9688000082969666\n",
      "300 hidden nodes accuracy: 0.9750000238418579\n",
      "500 hidden nodes accuracy: 0.9765999913215637\n",
      "700 hidden nodes accuracy: 0.9764000177383423\n",
      "\n",
      "Using 500 hidden nodes for final test accuracy.\n",
      "\n",
      "Test loss: 0.0905374214053154\n",
      "Test accuracy: 0.972599983215332\n"
     ]
    }
   ],
   "source": [
    "def train_MLP(num_hidden_nodes, dataset):\n",
    "    tf.reset_default_graph()\n",
    "\n",
    "    # Model parameters\n",
    "    W1 = tf.Variable(tf.truncated_normal([784, num_hidden_nodes], stddev=0.1))\n",
    "    b1 = tf.Variable(tf.zeros([num_hidden_nodes]))\n",
    "    W2 = tf.Variable(tf.truncated_normal([num_hidden_nodes, 10], stddev=0.1))\n",
    "    b2 = tf.Variable(tf.zeros([10]))\n",
    "\n",
    "    # Placeholders\n",
    "    x = tf.placeholder(tf.float32, [None, 784])\n",
    "    y_ = tf.placeholder(tf.float32, [None, 10])\n",
    "\n",
    "    # MLP\n",
    "    h = tf.nn.relu(tf.matmul(x, W1) + b1)\n",
    "    y = tf.matmul(h, W2) + b2\n",
    "\n",
    "    # Cross-entropy loss and optimizer\n",
    "    cross_entropy = tf.reduce_mean(tf.nn.softmax_cross_entropy_with_logits(labels=y_, logits=y))\n",
    "    train_step = tf.train.GradientDescentOptimizer(0.1).minimize(cross_entropy)\n",
    "    \n",
    "    # Create a Session object, initialize all variables\n",
    "    with tf.Session() as sess:\n",
    "        sess.run(tf.global_variables_initializer())\n",
    "\n",
    "        # Train\n",
    "        for iter in range(5000):\n",
    "            batch_xs, batch_ys = mnist.train.next_batch(100)\n",
    "            sess.run(train_step, feed_dict={x: batch_xs, y_: batch_ys})\n",
    "        \n",
    "        # Evaluation\n",
    "        correct_prediction = tf.equal(tf.argmax(y, 1), tf.argmax(y_, 1))\n",
    "        accuracy = tf.reduce_mean(tf.cast(correct_prediction, tf.float32))\n",
    "        valid_loss = sess.run(cross_entropy, feed_dict={x: dataset.images, y_: dataset.labels})\n",
    "        valid_accuracy = sess.run(accuracy, feed_dict={x: dataset.images, y_: dataset.labels})\n",
    "    \n",
    "    return valid_loss, valid_accuracy\n",
    "\n",
    "# Effect of number of hidden nodes\n",
    "hidden_nodes = np.array([100, 300, 500, 700])\n",
    "hidden_accuracy = []\n",
    "\n",
    "for num_nodes in hidden_nodes:\n",
    "    valid_loss, valid_accuracy = train_MLP(num_nodes, mnist.validation)\n",
    "    print('{0} hidden nodes accuracy: {1}'.format(num_nodes, valid_accuracy))\n",
    "    hidden_accuracy.append(valid_accuracy)\n",
    "\n",
    "# Evaluation\n",
    "# Test trained model\n",
    "best_model = hidden_nodes[np.argmax(hidden_accuracy)]\n",
    "print('\\nUsing {0} hidden nodes for final test accuracy.\\n'.format(best_model))\n",
    "test_loss, test_accuracy = train_MLP(best_model, mnist.test)\n",
    "\n",
    "print('Test loss: {0}'.format(test_loss))\n",
    "print('Test accuracy: {0}'.format(test_accuracy))"
   ]
  },
  {
   "cell_type": "markdown",
   "metadata": {},
   "source": [
    "### (c)\tSet up an MLP with two hidden layers (i.e. lecture 2, slide 55)"
   ]
  },
  {
   "cell_type": "code",
   "execution_count": 13,
   "metadata": {},
   "outputs": [
    {
     "name": "stdout",
     "output_type": "stream",
     "text": [
      "300/100 hidden nodes accuracy: 0.977400004863739\n",
      "500/100 hidden nodes accuracy: 0.9775999784469604\n",
      "700/100 hidden nodes accuracy: 0.9778000116348267\n",
      "500/300 hidden nodes accuracy: 0.977400004863739\n",
      "700/300 hidden nodes accuracy: 0.975600004196167\n",
      "700/500 hidden nodes accuracy: 0.9805999994277954\n",
      "\n",
      "Using 700/500 hidden nodes for final test accuracy.\n",
      "\n",
      "Test loss: 0.07037129998207092\n",
      "Test accuracy: 0.9789000153541565\n"
     ]
    }
   ],
   "source": [
    "def train_MLP(num_hidden_nodes_1, num_hidden_nodes_2, dataset):\n",
    "    tf.reset_default_graph()\n",
    "\n",
    "    # Model parameters\n",
    "    W1 = tf.Variable(tf.truncated_normal([784, num_hidden_nodes_1], stddev=0.1))\n",
    "    b1 = tf.Variable(tf.zeros([num_hidden_nodes_1]))\n",
    "    W2 = tf.Variable(tf.truncated_normal([num_hidden_nodes_1, num_hidden_nodes_2], stddev=0.1))\n",
    "    b2 = tf.Variable(tf.zeros([num_hidden_nodes_2]))\n",
    "    W3 = tf.Variable(tf.truncated_normal([num_hidden_nodes_2, 10], stddev=0.1))\n",
    "    b3 = tf.Variable(tf.zeros([10]))\n",
    "\n",
    "    # Placeholders\n",
    "    x = tf.placeholder(tf.float32, [None, 784])\n",
    "    y_ = tf.placeholder(tf.float32, [None, 10])\n",
    "\n",
    "    # MLP\n",
    "    h1 = tf.nn.relu(tf.matmul(x,  W1) + b1)\n",
    "    h2 = tf.nn.relu(tf.matmul(h1, W2) + b2)\n",
    "    y = tf.matmul(h2, W3) + b3\n",
    "\n",
    "    # Cross-entropy loss and optimizer\n",
    "    cross_entropy = tf.reduce_mean(tf.nn.softmax_cross_entropy_with_logits(labels=y_, logits=y))\n",
    "    train_step = tf.train.GradientDescentOptimizer(0.1).minimize(cross_entropy)\n",
    "    \n",
    "    # Create a Session object, initialize all variables\n",
    "    with tf.Session() as sess:\n",
    "        sess.run(tf.global_variables_initializer())\n",
    "\n",
    "        # Train\n",
    "        for iter in range(5000):\n",
    "            batch_xs, batch_ys = mnist.train.next_batch(100)\n",
    "            sess.run(train_step, feed_dict={x: batch_xs, y_: batch_ys})\n",
    "        \n",
    "        # Evaluation\n",
    "        correct_prediction = tf.equal(tf.argmax(y, 1), tf.argmax(y_, 1))\n",
    "        accuracy = tf.reduce_mean(tf.cast(correct_prediction, tf.float32))\n",
    "        valid_loss = sess.run(cross_entropy, feed_dict={x: dataset.images, y_: dataset.labels})\n",
    "        valid_accuracy = sess.run(accuracy, feed_dict={x: dataset.images, y_: dataset.labels})\n",
    "    \n",
    "    return valid_loss, valid_accuracy\n",
    "\n",
    "# Effect of number of hidden nodes\n",
    "hidden_nodes_1 = [300, 500, 700, 500, 700, 700]\n",
    "hidden_nodes_2 = [100, 100, 100, 300, 300, 500]\n",
    "hidden_accuracy = []\n",
    "\n",
    "for i in range(len(hidden_nodes_1)):\n",
    "    valid_loss, valid_accuracy = train_MLP(hidden_nodes_1[i], hidden_nodes_2[i], mnist.validation)\n",
    "    print('{0}/{1} hidden nodes accuracy: {2}'.format(hidden_nodes_1[i], hidden_nodes_2[i], valid_accuracy))\n",
    "    hidden_accuracy.append(valid_accuracy)\n",
    "\n",
    "# Evaluation\n",
    "# Test trained model\n",
    "best_model = (hidden_nodes_1[np.argmax(hidden_accuracy)], hidden_nodes_2[np.argmax(hidden_accuracy)])\n",
    "print('\\nUsing {0}/{1} hidden nodes for final test accuracy.\\n'.format(best_model[0], best_model[1]))\n",
    "test_loss, test_accuracy = train_MLP(best_model[0], best_model[1], mnist.test)\n",
    "\n",
    "print('Test loss: {0}'.format(test_loss))\n",
    "print('Test accuracy: {0}'.format(test_accuracy))"
   ]
  },
  {
   "cell_type": "markdown",
   "metadata": {},
   "source": [
    "## Problem 4: Performance Comparison (20 points)"
   ]
  },
  {
   "cell_type": "markdown",
   "metadata": {},
   "source": [
    "### (a)\tDid your implementations and TensorFlow’s implementations from problems 2 and 3 perform the same?"
   ]
  },
  {
   "cell_type": "markdown",
   "metadata": {},
   "source": [
    "Yes. As shown above in the printed validation accuracies, both the manual implementation of logistic regression without TensorFlow and the implementation with TensorFlow achieved accuracies of approximately 92% (respectively, accuracies of 92.1% and 92.2%)."
   ]
  },
  {
   "cell_type": "markdown",
   "metadata": {},
   "source": [
    "### (b)\tWhat is the validation accuracy from the multi-class logistic regression?"
   ]
  },
  {
   "cell_type": "markdown",
   "metadata": {},
   "source": [
    "Again, as shown above, the multi-class logistic regression achieved a classification accuracy of approximately 92%."
   ]
  },
  {
   "cell_type": "markdown",
   "metadata": {},
   "source": [
    "### (c)\tWhat is the validation accuracy from the multi-class MLP with a single hidden layer?  If you change the number of nodes in the hidden layer, how susceptible is the hold out performance?"
   ]
  },
  {
   "cell_type": "markdown",
   "metadata": {},
   "source": [
    "The following numbers of hidden nodes were tested: 100, 300, 500, and 700. As shown above, increasing the number of nodes from 100 to 300 to 500 caused the performance to improve slightly (from 96.9% to 97.5% to 97.7%), while 500 and 700 hidden nodes had similar performances.\n",
    "\n",
    "Ultimately, with 500 hidden nodes, the test accuracy was 97.3%."
   ]
  },
  {
   "cell_type": "markdown",
   "metadata": {},
   "source": [
    "### (d)\tWhat is the validation accuracy from the multi-class MLP with two hidden layers?  If you change the number of nodes in the hidden layers, how susceptible is the hold out performance?"
   ]
  },
  {
   "cell_type": "markdown",
   "metadata": {},
   "source": [
    "The following combinations of numbers of hidden nodes were tested:\n",
    "1. 300 in the first layer and 100 in the second layer\n",
    "2. 500 in the first layer and 100 in the second layer\n",
    "3. 700 in the first layer and 100 in the second layer\n",
    "4. 500 in the first layer and 300 in the second layer\n",
    "5. 700 in the first layer and 300 in the second layer\n",
    "6. 700 in the first layer and 500 in the second layer\n",
    "\n",
    "As shown above, varying the number of nodes did not significantly impact the hold out performance, though the best-performing combination was 700 nodes in first hidden layer and 500 nodes inthe second hidden layer (validation accuracy of 98.1%).\n",
    "\n",
    "Ultimately, with this combination, the accuracy on the final test dataset was 97.9%."
   ]
  },
  {
   "cell_type": "markdown",
   "metadata": {},
   "source": [
    "### (e)\tDo you match my reported accuracies (lecture 2, slide 58)?"
   ]
  },
  {
   "cell_type": "markdown",
   "metadata": {},
   "source": [
    "Yes. Logistic regression was reported to have an accuracy of approximately 91%, and I found an accuracy of 92%. A single-hidden-layer MLP was reported to have an accuracy of approximately 96%, and I found an accuracy of 97.3%. The slight discrepancies are just due to randomness in the trained model; no bias is expected since the test dataset was evaluated only a single time after all training/validation was complete."
   ]
  }
 ],
 "metadata": {
  "kernelspec": {
   "display_name": "Python 3",
   "language": "python",
   "name": "python3"
  },
  "language_info": {
   "codemirror_mode": {
    "name": "ipython",
    "version": 3
   },
   "file_extension": ".py",
   "mimetype": "text/x-python",
   "name": "python",
   "nbconvert_exporter": "python",
   "pygments_lexer": "ipython3",
   "version": "3.6.3"
  }
 },
 "nbformat": 4,
 "nbformat_minor": 2
}
